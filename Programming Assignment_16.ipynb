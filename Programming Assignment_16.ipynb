{
 "cells": [
  {
   "cell_type": "markdown",
   "metadata": {},
   "source": [
    "#### Created on Jul 24, 2022\n",
    "\n",
    "#### @author: Sandeep"
   ]
  },
  {
   "cell_type": "markdown",
   "metadata": {},
   "source": [
    "##### Question1. \n",
    "Write a function that stutters a word as if someone is struggling to read it. The\n",
    "first two letters are repeated twice with an ellipsis ... and space after each, and then the\n",
    "word is pronounced with a question mark ?.\n",
    "\n",
    "__Examples__\n",
    "\n",
    "stutter(&quot;incredible&quot;) ➞ &quot;in... in... incredible?&quot;\n",
    "\n",
    "stutter(&quot;enthusiastic&quot;) ➞ &quot;en... en... enthusiastic?&quot;\n",
    "\n",
    "stutter(&quot;outstanding&quot;) ➞ &quot;ou... ou... outstanding?&quot;\n",
    "\n",
    "Hint :- Assume all input is in lower case and at least two characters long."
   ]
  },
  {
   "cell_type": "code",
   "execution_count": 1,
   "metadata": {},
   "outputs": [],
   "source": [
    "def stutter(string):\n",
    "    \"\"\"\n",
    "    Input string: str\n",
    "    Return return: str\n",
    "    \"\"\"\n",
    "    return (f'{string[:2]}...')*2 + string + '?'"
   ]
  },
  {
   "cell_type": "code",
   "execution_count": 2,
   "metadata": {},
   "outputs": [
    {
     "name": "stdout",
     "output_type": "stream",
     "text": [
      "stutter(incredible) ➞ in...in...incredible?\n",
      "stutter(enthusiastic) ➞ en...en...enthusiastic?\n",
      "stutter(outstanding) ➞ ou...ou...outstanding?\n"
     ]
    }
   ],
   "source": [
    "lst = ['incredible', 'enthusiastic', 'outstanding']\n",
    "for i in lst:\n",
    "    print(f'stutter({i}) ➞ {stutter(i)}')"
   ]
  },
  {
   "cell_type": "markdown",
   "metadata": {},
   "source": [
    "##### Question 2.\n",
    "Create a function that takes an angle in radians and returns the corresponding\n",
    "angle in degrees rounded to one decimal place.\n",
    "\n",
    "__Examples__\n",
    "\n",
    "radians_to_degrees(1) ➞ 57.3\n",
    "\n",
    "radians_to_degrees(20) ➞ 1145.9\n",
    "\n",
    "radians_to_degrees(50) ➞ 2864.8"
   ]
  },
  {
   "cell_type": "code",
   "execution_count": 3,
   "metadata": {
    "scrolled": true
   },
   "outputs": [
    {
     "name": "stdout",
     "output_type": "stream",
     "text": [
      "radians_to_degrees(1) ➞ 57.3\n",
      "radians_to_degrees(20) ➞ 1145.9\n",
      "radians_to_degrees(50) ➞ 2864.8\n"
     ]
    }
   ],
   "source": [
    "import math\n",
    "\n",
    "def radians_to_degrees(angle):\n",
    "    in_degree = round((180 / math.pi) * angle, 1)\n",
    "    return in_degree\n",
    "\n",
    "angles = [1, 20, 50]\n",
    "for num in angles:\n",
    "    print(f'radians_to_degrees({num}) ➞ {radians_to_degrees(num)}')"
   ]
  },
  {
   "cell_type": "markdown",
   "metadata": {},
   "source": [
    "##### Question 3. \n",
    "In this challenge, establish if a given integer num is a Curzon number. If 1 plus\n",
    "2 elevated to num is exactly divisible by 1 plus 2 multiplied by num, then num is a Curzon\n",
    "number.\n",
    "\n",
    "Given a non-negative integer num, implement a function that returns True if num is a Curzon\n",
    "number, or False otherwise.\n",
    "\n",
    "__Examples__\n",
    "\n",
    "is_curzon(5) ➞ True\n",
    "\n",
    "__# 2 ** 5 + 1 = 33__\n",
    "\n",
    "__# 2 * 5 + 1 = 11__\n",
    "\n",
    "__# 33 is a multiple of 11__\n",
    "\n",
    "is_curzon(10) ➞ False\n",
    "\n",
    "__# 2 ** 10 + 1 = 1025__\n",
    "\n",
    "__# 2 * 10 + 1 = 21__\n",
    "\n",
    "__# 1025 is not a multiple of 21__\n",
    "\n",
    "is_curzon(14) ➞ True\n",
    "\n",
    "__# 2 ** 14 + 1 = 16385__\n",
    "\n",
    "__# 2 * 14 + 1 = 29__\n",
    "\n",
    "__# 16385 is a multiple of 29__"
   ]
  },
  {
   "cell_type": "code",
   "execution_count": 4,
   "metadata": {},
   "outputs": [
    {
     "name": "stdout",
     "output_type": "stream",
     "text": [
      "5 is a Curzon Number\n",
      "10 is Not a Curzon Number\n",
      "14 is a Curzon Number\n"
     ]
    }
   ],
   "source": [
    "def is_curzon(in_num):\n",
    "    if (pow(2,in_num)+1)%((2*in_num)+1) == 0:\n",
    "        return f'{in_num} is a Curzon Number'\n",
    "    else:\n",
    "        return f'{in_num} is Not a Curzon Number'\n",
    "    \n",
    "lst = [5, 10, 14]\n",
    "for num in lst:\n",
    "    print(is_curzon(num))"
   ]
  },
  {
   "cell_type": "markdown",
   "metadata": {},
   "source": [
    "##### Question 4.\n",
    "Given the side length x find the area of a hexagon.\n",
    "\n",
    "<img src=\"Capture.jpg\" style=\"width:300px;height:300px;\">\n",
    "\n",
    "__Examples__\n",
    "\n",
    "area_of_hexagon(1) ➞ 2.6\n",
    "\n",
    "area_of_hexagon(2) ➞ 10.4\n",
    "\n",
    "area_of_hexagon(3) ➞ 23.4"
   ]
  },
  {
   "cell_type": "code",
   "execution_count": 5,
   "metadata": {},
   "outputs": [
    {
     "name": "stdout",
     "output_type": "stream",
     "text": [
      "area_of_hexagon(1) ➞ 2.6\n",
      "area_of_hexagon(2) ➞ 10.4\n",
      "area_of_hexagon(3) ➞ 23.4\n"
     ]
    }
   ],
   "source": [
    "import math\n",
    "def area_of_hexagon(side):\n",
    "    area = ((3*math.sqrt(3))/2)*(pow(side,2))\n",
    "    return round(area, 1)\n",
    "    \n",
    "for x in range(1, 4):\n",
    "    print(f'area_of_hexagon({x}) ➞ {area_of_hexagon(x)}')"
   ]
  },
  {
   "cell_type": "markdown",
   "metadata": {},
   "source": [
    "##### Question 5. \n",
    "Create a function that returns a base-2 (binary) representation of a base-10\n",
    "(decimal) string number. To convert is simple: ((2) means base-2 and (10) means base-10)\n",
    "010101001(2) = 1 + 8 + 32 + 128.\n",
    "\n",
    "Going from right to left, the value of the most right bit is 1, now from that every bit to the left\n",
    "will be x2 the value, value of an 8 bit binary numbers are (256, 128, 64, 32, 16, 8, 4, 2, 1).\n",
    "\n",
    "__Examples__\n",
    "\n",
    "binary(1) ➞ &quot;1&quot;\n",
    "\n",
    "__# 1*1 = 1__\n",
    "\n",
    "binary(5) ➞ &quot;101&quot;\n",
    "\n",
    "__# 1*1 + 1*4 = 5__\n",
    "\n",
    "binary(10) ➞ &quot;1010&quot;\n",
    "\n",
    "__# 1*2 + 1*8 = 10__"
   ]
  },
  {
   "cell_type": "code",
   "execution_count": 6,
   "metadata": {},
   "outputs": [
    {
     "name": "stdout",
     "output_type": "stream",
     "text": [
      "binary(1) ➞ \"1\"\n",
      "binary(5) ➞ \"101\"\n",
      "binary(10) ➞ \"1010\"\n"
     ]
    }
   ],
   "source": [
    "def binary(num):\n",
    "    bin_num = bin(num).replace('0b','') \n",
    "    return bin_num\n",
    "\n",
    "for x in [1, 5, 10]:\n",
    "    print(f'binary({x}) ➞ \"{binary(x)}\"')"
   ]
  }
 ],
 "metadata": {
  "kernelspec": {
   "display_name": "Python 3",
   "language": "python",
   "name": "python3"
  },
  "language_info": {
   "codemirror_mode": {
    "name": "ipython",
    "version": 3
   },
   "file_extension": ".py",
   "mimetype": "text/x-python",
   "name": "python",
   "nbconvert_exporter": "python",
   "pygments_lexer": "ipython3",
   "version": "3.8.5"
  }
 },
 "nbformat": 4,
 "nbformat_minor": 4
}
