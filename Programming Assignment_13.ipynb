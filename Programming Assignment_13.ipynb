{
 "cells": [
  {
   "cell_type": "markdown",
   "metadata": {},
   "source": [
    "##### Question 1:\n",
    "Write a program that calculates and prints the value according to the given formula:\n",
    "\n",
    "Q = Square root of [(2 * C * D)/H]\n",
    "\n",
    "Following are the fixed values of C and H:\n",
    "\n",
    "C is 50. H is 30.\n",
    "\n",
    "D is the variable whose values should be input to your program in a comma-separated\n",
    "\n",
    "sequence.\n",
    "\n",
    "Example\n",
    "\n",
    "Let us assume the following comma separated input sequence is given to the program:\n",
    "\n",
    "100,150,180\n",
    "\n",
    "The output of the program should be:\n",
    "\n",
    "18,22,24"
   ]
  },
  {
   "cell_type": "code",
   "execution_count": 1,
   "metadata": {},
   "outputs": [
    {
     "name": "stdout",
     "output_type": "stream",
     "text": [
      "enter number: 100,150,180\n",
      "Output: 18,22,24\n"
     ]
    }
   ],
   "source": [
    "from math import sqrt\n",
    "\n",
    "def calculate_q(D, C = 50, H = 30):\n",
    "    nums = eval(D)\n",
    "    output = []\n",
    "    for ele in nums:\n",
    "        Q = str(int(sqrt((2*C*ele)/H)))\n",
    "        output.append(Q)\n",
    "    print(\"Output: {}\".format(','.join(output)))\n",
    "    \n",
    "calculate_q(D = input('enter number: '))"
   ]
  },
  {
   "cell_type": "markdown",
   "metadata": {},
   "source": [
    "##### Question 2:\n",
    "Write a program which takes 2 digits, X,Y as input and generates a 2-dimensional array. The\n",
    "element value in the i-th row and j-th column of the array should be i*j.\n",
    "\n",
    "Note: i=0,1.., X-1; j=0,1,¡Y-1.\n",
    "\n",
    "Example\n",
    "\n",
    "Suppose the following inputs are given to the program:\n",
    "\n",
    "3,5\n",
    "\n",
    "Then, the output of the program should be:\n",
    "\n",
    "[[0, 0, 0, 0, 0], [0, 1, 2, 3, 4], [0, 2, 4, 6, 8]]"
   ]
  },
  {
   "cell_type": "code",
   "execution_count": 4,
   "metadata": {},
   "outputs": [
    {
     "name": "stdout",
     "output_type": "stream",
     "text": [
      "Enter the No of Rows:3\n",
      "Enter the No of Columns:5\n"
     ]
    },
    {
     "data": {
      "text/plain": [
       "[[0, 0, 0, 0, 0], [0, 1, 2, 3, 4], [0, 2, 4, 6, 8]]"
      ]
     },
     "execution_count": 4,
     "metadata": {},
     "output_type": "execute_result"
    }
   ],
   "source": [
    "import array as arr\n",
    "\n",
    "def generate_array(X, Y): \n",
    "    out_array = []\n",
    "    for ele in range(X):\n",
    "        out_array.insert(X,[])\n",
    "        for sub_ele in range(Y):\n",
    "            out_array[ele].append(ele*sub_ele)\n",
    "    return out_array\n",
    "    \n",
    "generate_array(X = int(input('Enter the No of Rows:')),\n",
    "    Y = int(input('Enter the No of Columns:')))"
   ]
  },
  {
   "cell_type": "markdown",
   "metadata": {},
   "source": [
    "##### Question 3:\n",
    "Write a program that accepts a comma separated sequence of words as input and prints the\n",
    "words in a comma-separated sequence after sorting them alphabetically.\n",
    "Suppose the following input is supplied to the program:\n",
    "\n",
    "without,hello,bag,world\n",
    "\n",
    "Then, the output should be:\n",
    "\n",
    "bag,hello,without,world"
   ]
  },
  {
   "cell_type": "code",
   "execution_count": 6,
   "metadata": {},
   "outputs": [
    {
     "name": "stdout",
     "output_type": "stream",
     "text": [
      "Enter the Input String: without,hello,bag,world\n"
     ]
    },
    {
     "data": {
      "text/plain": [
       "'Output: bag,hello,without,world'"
      ]
     },
     "execution_count": 6,
     "metadata": {},
     "output_type": "execute_result"
    }
   ],
   "source": [
    "def sort_string(in_string):\n",
    "    out_string = ','.join(sorted(in_string.split(',')))\n",
    "    return f'Output: {out_string}'\n",
    "    \n",
    "sort_string(in_string = input(\"Enter the Input String: \"))"
   ]
  },
  {
   "cell_type": "markdown",
   "metadata": {},
   "source": [
    "##### Question 4:\n",
    "Write a program that accepts a sequence of whitespace separated words as input and prints\n",
    "the words after removing all duplicate words and sorting them alphanumerically.\n",
    "Suppose the following input is supplied to the program:\n",
    "\n",
    "hello world and practice makes perfect and hello world again\n",
    "\n",
    "Then, the output should be:\n",
    "\n",
    "again and hello makes perfect practice world"
   ]
  },
  {
   "cell_type": "code",
   "execution_count": 7,
   "metadata": {},
   "outputs": [
    {
     "name": "stdout",
     "output_type": "stream",
     "text": [
      "Enter the Input String: hello world and practice makes perfect and hello world again\n"
     ]
    },
    {
     "data": {
      "text/plain": [
       "'Output: again and hello makes perfect practice world'"
      ]
     },
     "execution_count": 7,
     "metadata": {},
     "output_type": "execute_result"
    }
   ],
   "source": [
    "def sort_alpha_numerically(string):\n",
    "    out_string = ' '.join(sorted(sorted(list(set(string.split(\" \"))))))\n",
    "    return f'Output: {out_string}'\n",
    "    \n",
    "sort_alpha_numerically(string= input(\"Enter the Input String: \"))"
   ]
  },
  {
   "cell_type": "markdown",
   "metadata": {},
   "source": [
    "##### Question 5:\n",
    "Write a program that accepts a sentence and calculate the number of letters and digits.\n",
    "Suppose the following input is supplied to the program:\n",
    "\n",
    "hello world! 123\n",
    "\n",
    "Then, the output should be:\n",
    "\n",
    "LETTERS 10\n",
    "\n",
    "DIGITS 3"
   ]
  },
  {
   "cell_type": "code",
   "execution_count": 10,
   "metadata": {},
   "outputs": [
    {
     "name": "stdout",
     "output_type": "stream",
     "text": [
      "Enter the Input String: hello world! 123\n",
      "LETTERS 10 \n",
      "DIGITS 3\n"
     ]
    }
   ],
   "source": [
    "def count_letter_digits(string):\n",
    "    lettersList = 'ABCDEFGHIJKLMNOPQRSTUVWXYZabcdefghijklmnopqrstuvwxyz'\n",
    "    digitsList = '0123456789'\n",
    "    letters = 0\n",
    "    digits = 0\n",
    "    for ele in string:\n",
    "        if ele in lettersList:\n",
    "            letters += 1\n",
    "        elif ele in digitsList:\n",
    "            digits += 1\n",
    "        \n",
    "    print(f'LETTERS {letters} \\nDIGITS {digits}')\n",
    "        \n",
    "count_letter_digits(string= input(\"Enter the Input String: \"))"
   ]
  },
  {
   "cell_type": "markdown",
   "metadata": {},
   "source": [
    "##### Question 6:\n",
    "A website requires the users to input username and password to register. Write a program to\n",
    "check the validity of password input by users.\n",
    "Following are the criteria for checking the password:\n",
    "\n",
    "1. At least 1 letter between [a-z]\n",
    "\n",
    "2. At least 1 number between [0-9]\n",
    "\n",
    "1. At least 1 letter between [A-Z]\n",
    "\n",
    "3. At least 1 character from [$#@]\n",
    "\n",
    "4. Minimum length of transaction password: 6\n",
    "\n",
    "5. Maximum length of transaction password: 12\n",
    "\n",
    "Your program should accept a sequence of comma separated passwords and will check them\n",
    "according to the above criteria. Passwords that match the criteria are to be printed, each\n",
    "separated by a comma.\n",
    "\n",
    "Example\n",
    "\n",
    "If the following passwords are given as input to the program:\n",
    "\n",
    "ABd1234@1,a F1#,2w3E*,2We3345\n",
    "\n",
    "Then, the output of the program should be:\n",
    "\n",
    "ABd1234@1"
   ]
  },
  {
   "cell_type": "code",
   "execution_count": 11,
   "metadata": {},
   "outputs": [
    {
     "name": "stdout",
     "output_type": "stream",
     "text": [
      "Enter the Input String: ABd1234@1,a F1#,2w3E*,2We3345\n",
      "ABd1234@1\n"
     ]
    }
   ],
   "source": [
    "def check_password(string):\n",
    "    small_list = \"abcdefghijklmnopqrstuvwxyz\"\n",
    "    cap_list = \"ABCDEFGHIJKLMNOPQRSTUVWXYZ\"\n",
    "    num_list = \"0123456789\"\n",
    "    special_list = \"$#@\"\n",
    "    for ele in string.split(\",\"):\n",
    "        if len(ele) <= 12 and len(ele) >=6 :\n",
    "            if any(i.isupper() for i in ele):\n",
    "                if any(i.islower() for i in ele):\n",
    "                    if any(i for i in ele if i in special_list):\n",
    "                        print(ele)\n",
    "                               \n",
    "check_password(string= input(\"Enter the Input String: \")) "
   ]
  }
 ],
 "metadata": {
  "kernelspec": {
   "display_name": "Python 3",
   "language": "python",
   "name": "python3"
  },
  "language_info": {
   "codemirror_mode": {
    "name": "ipython",
    "version": 3
   },
   "file_extension": ".py",
   "mimetype": "text/x-python",
   "name": "python",
   "nbconvert_exporter": "python",
   "pygments_lexer": "ipython3",
   "version": "3.8.5"
  }
 },
 "nbformat": 4,
 "nbformat_minor": 4
}
