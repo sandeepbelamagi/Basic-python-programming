{
 "cells": [
  {
   "cell_type": "markdown",
   "metadata": {},
   "source": [
    "##### 1. Write a Python Program to Find the Factorial of a Number?"
   ]
  },
  {
   "cell_type": "code",
   "execution_count": 1,
   "metadata": {},
   "outputs": [],
   "source": [
    "def factorial(num):\n",
    "    \"\"\"\n",
    "    the function is a factorial calculation\n",
    "    \n",
    "    Input num : int\n",
    "    \n",
    "    return fact: factorial number\n",
    "    \"\"\"\n",
    "    fact = 1\n",
    "    if num == 0:\n",
    "        return \"The factorial of\",num,\"is\",num\n",
    "    elif num > 0:\n",
    "        for i in range(1, num + 1):\n",
    "            fact = fact * i\n",
    "        return fact\n",
    "    else:\n",
    "        return 'num should only be +ve'"
   ]
  },
  {
   "cell_type": "code",
   "execution_count": 2,
   "metadata": {
    "scrolled": true
   },
   "outputs": [
    {
     "name": "stdout",
     "output_type": "stream",
     "text": [
      "give a number :5\n"
     ]
    },
    {
     "data": {
      "text/plain": [
       "120"
      ]
     },
     "execution_count": 2,
     "metadata": {},
     "output_type": "execute_result"
    }
   ],
   "source": [
    "num = int(input('give a number :'))\n",
    "\n",
    "factorial(num)"
   ]
  },
  {
   "cell_type": "markdown",
   "metadata": {},
   "source": [
    "##### 2. Write a Python Program to Display the multiplication Table?"
   ]
  },
  {
   "cell_type": "code",
   "execution_count": 3,
   "metadata": {},
   "outputs": [],
   "source": [
    "def mul_table(num, start_point, end_point):\n",
    "    print('So This is the table of', num)\n",
    "    for i in range(start_point, end_point + 1):\n",
    "        print(num, 'x', i, '=', num*i)"
   ]
  },
  {
   "cell_type": "code",
   "execution_count": 4,
   "metadata": {},
   "outputs": [
    {
     "name": "stdout",
     "output_type": "stream",
     "text": [
      "So This is the table of 2\n",
      "2 x 1 = 2\n",
      "2 x 2 = 4\n",
      "2 x 3 = 6\n",
      "2 x 4 = 8\n",
      "2 x 5 = 10\n",
      "2 x 6 = 12\n",
      "2 x 7 = 14\n",
      "2 x 8 = 16\n",
      "2 x 9 = 18\n",
      "2 x 10 = 20\n"
     ]
    }
   ],
   "source": [
    "mul_table(2,1,10)"
   ]
  },
  {
   "cell_type": "markdown",
   "metadata": {},
   "source": [
    "##### 3. Write a Python Program to Print the Fibonacci sequence?"
   ]
  },
  {
   "cell_type": "code",
   "execution_count": 5,
   "metadata": {},
   "outputs": [
    {
     "name": "stdout",
     "output_type": "stream",
     "text": [
      "number of terms : 6\n",
      "The fibonacci sequence of the numbers is:\n",
      "0 1 1 2 3 5 "
     ]
    }
   ],
   "source": [
    "n_terms = int(input (\"number of terms : \"))  \n",
    "  \n",
    "n_1 = 0  \n",
    "n_2 = 1  \n",
    "count = 0  \n",
    "   \n",
    "if n_terms <= 0:  \n",
    "    print (\"Please enter a positive integer\")  \n",
    "\n",
    "elif n_terms == 1:  \n",
    "    print (\"The Fibonacci sequence of the numbers up to\", n_terms, \": \", n_1)  \n",
    "#     print(n_1)  \n",
    "\n",
    "else:  \n",
    "    print (\"The fibonacci sequence of the numbers is:\")  \n",
    "    while count < n_terms:  \n",
    "        print(n_1, end=' ')  \n",
    "        nth = n_1 + n_2   \n",
    "        n_1 = n_2  \n",
    "        n_2 = nth  \n",
    "        count += 1 "
   ]
  },
  {
   "cell_type": "markdown",
   "metadata": {},
   "source": [
    "##### 4. Write a Python Program to Check Armstrong Number?"
   ]
  },
  {
   "cell_type": "code",
   "execution_count": 6,
   "metadata": {},
   "outputs": [],
   "source": [
    "def armstrong(num):\n",
    "    num_str = str(num)\n",
    "    sum = 0\n",
    "    for i in num_str:\n",
    "        sum += int(i) ** len(num_str)\n",
    "        \n",
    "    if num == sum:\n",
    "        return 'Armstrong Number'\n",
    "    else:\n",
    "        return 'Not a Armstrong Number'"
   ]
  },
  {
   "cell_type": "code",
   "execution_count": 7,
   "metadata": {},
   "outputs": [
    {
     "data": {
      "text/plain": [
       "'Not a Armstrong Number'"
      ]
     },
     "execution_count": 7,
     "metadata": {},
     "output_type": "execute_result"
    }
   ],
   "source": [
    "armstrong(663)"
   ]
  },
  {
   "cell_type": "code",
   "execution_count": 8,
   "metadata": {
    "scrolled": true
   },
   "outputs": [
    {
     "data": {
      "text/plain": [
       "'Armstrong Number'"
      ]
     },
     "execution_count": 8,
     "metadata": {},
     "output_type": "execute_result"
    }
   ],
   "source": [
    "armstrong(1634)"
   ]
  },
  {
   "cell_type": "markdown",
   "metadata": {},
   "source": [
    "##### 5. Write a Python Program to Find Armstrong Number in an Interval?"
   ]
  },
  {
   "cell_type": "code",
   "execution_count": 9,
   "metadata": {},
   "outputs": [
    {
     "name": "stdout",
     "output_type": "stream",
     "text": [
      "Armstrong num is:  153\n",
      "Armstrong num is:  370\n",
      "Armstrong num is:  371\n",
      "Armstrong num is:  407\n",
      "Armstrong num is:  1634\n"
     ]
    }
   ],
   "source": [
    "lower = 100\n",
    "upper = 2000\n",
    "\n",
    "for num in range(lower, upper + 1):\n",
    "    order = len(str(num))\n",
    "    sum = 0\n",
    "    temp = num\n",
    "    while temp > 0:\n",
    "        digit = temp % 10\n",
    "        sum += digit ** order\n",
    "        temp //= 10\n",
    "\n",
    "    if num == sum:\n",
    "        print('Armstrong num is: ', num)"
   ]
  },
  {
   "cell_type": "markdown",
   "metadata": {},
   "source": [
    "##### 6. Write a Python Program to Find the Sum of Natural Numbers?"
   ]
  },
  {
   "cell_type": "code",
   "execution_count": 10,
   "metadata": {},
   "outputs": [],
   "source": [
    "def naturalnums(num):\n",
    "    if num > 0:\n",
    "        sum = 0\n",
    "        while num > 0:\n",
    "            sum += num\n",
    "            num -= 1\n",
    "        return f'the sum of natural nums is: {sum}'\n",
    "    else:\n",
    "        return 'enter a positive num'"
   ]
  },
  {
   "cell_type": "code",
   "execution_count": 11,
   "metadata": {},
   "outputs": [
    {
     "data": {
      "text/plain": [
       "'the sum of natural nums is: 136'"
      ]
     },
     "execution_count": 11,
     "metadata": {},
     "output_type": "execute_result"
    }
   ],
   "source": [
    "naturalnums(16)"
   ]
  }
 ],
 "metadata": {
  "kernelspec": {
   "display_name": "Python 3",
   "language": "python",
   "name": "python3"
  },
  "language_info": {
   "codemirror_mode": {
    "name": "ipython",
    "version": 3
   },
   "file_extension": ".py",
   "mimetype": "text/x-python",
   "name": "python",
   "nbconvert_exporter": "python",
   "pygments_lexer": "ipython3",
   "version": "3.8.5"
  }
 },
 "nbformat": 4,
 "nbformat_minor": 4
}
