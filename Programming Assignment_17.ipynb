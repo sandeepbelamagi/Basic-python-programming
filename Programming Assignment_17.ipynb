{
 "cells": [
  {
   "cell_type": "markdown",
   "metadata": {},
   "source": [
    "##### Question1. \n",
    "Create a function that takes three arguments a, b, c and returns the sum of the\n",
    "numbers that are evenly divided by c from the range a, b inclusive.\n",
    "Examples\n",
    "evenly_divisible(1, 10, 20) ➞ 0\n",
    "###### No number between 1 and 10 can be evenly divided by 20.\n",
    "evenly_divisible(1, 10, 2) ➞ 30\n",
    "###### 2 + 4 + 6 + 8 + 10 = 30\n",
    "evenly_divisible(1, 10, 3) ➞ 18\n",
    "###### 3 + 6 + 9 = 18"
   ]
  },
  {
   "cell_type": "code",
   "execution_count": 2,
   "metadata": {},
   "outputs": [
    {
     "name": "stdout",
     "output_type": "stream",
     "text": [
      "even_divisible(1, 10, 20) ➞ 0\n",
      "even_divisible(1, 10, 2) ➞ 30\n",
      "even_divisible(1, 10, 3) ➞ 18\n"
     ]
    }
   ],
   "source": [
    "def even_divisible(a,b,c):\n",
    "    div_list = []\n",
    "    for num in range(a,b+1):\n",
    "        if num%c == 0:\n",
    "            div_list.append(num)\n",
    "    print(f'even_divisible{a,b,c} ➞ {sum(div_list)}')\n",
    "\n",
    "even_divisible(1,10,20)\n",
    "even_divisible(1,10,2)\n",
    "even_divisible(1,10,3)"
   ]
  },
  {
   "cell_type": "markdown",
   "metadata": {},
   "source": [
    "##### Question2.\n",
    "Create a function that returns True if a given inequality expression is correct and\n",
    "False otherwise.\n",
    "###### Examples\n",
    "correct_signs(&quot;3 &lt; 7 &lt; 11&quot;) ➞ True\n",
    "\n",
    "correct_signs(&quot;13 &gt; 44 &gt; 33 &gt; 1&quot;) ➞ False\n",
    "\n",
    "correct_signs(&quot;1 &lt; 2 &lt; 6 &lt; 9 &gt; 3&quot;) ➞ True"
   ]
  },
  {
   "cell_type": "code",
   "execution_count": 5,
   "metadata": {},
   "outputs": [
    {
     "name": "stdout",
     "output_type": "stream",
     "text": [
      "correct_signs(\"3 < 7 < 11\") ➞ True\n",
      "correct_signs(\"13 > 44 > 33 > 1\") ➞ False\n",
      "correct_signs(\"1 < 2 < 6 < 9 > 3\") ➞ True\n"
     ]
    }
   ],
   "source": [
    "def correct_signs(in_string):\n",
    "    out_bool = eval(in_string)\n",
    "    print(f'correct_signs(\"{in_string}\") ➞ {out_bool}')\n",
    "\n",
    "correct_signs(\"3 < 7 < 11\")\n",
    "\n",
    "correct_signs(\"13 > 44 > 33 > 1\")\n",
    "\n",
    "correct_signs(\"1 < 2 < 6 < 9 > 3\")"
   ]
  },
  {
   "cell_type": "markdown",
   "metadata": {},
   "source": [
    "##### Question3.\n",
    "Create a function that replaces all the vowels in a string with a specified character.\n",
    "###### Examples\n",
    "replace_vowels(&quot;the aardvark&quot;, &quot;#&quot;) ➞ &quot;th# ##rdv#rk&quot;\n",
    "\n",
    "replace_vowels(&quot;minnie mouse&quot;, &quot;?&quot;) ➞ &quot;m?nn?? m??s?&quot;\n",
    "\n",
    "replace_vowels(&quot;shakespeare&quot;, &quot;*&quot;) ➞ &quot;sh*k*sp**r*&quot;"
   ]
  },
  {
   "cell_type": "code",
   "execution_count": 8,
   "metadata": {},
   "outputs": [
    {
     "name": "stdout",
     "output_type": "stream",
     "text": [
      "replace_vowels(the aardvark,#) ➞ th# ##rdv#rk\n",
      "replace_vowels(minnie mouse,?) ➞ m?nn?? m??s?\n",
      "replace_vowels(shakespeare,*) ➞ sh*k*sp**r*\n"
     ]
    }
   ],
   "source": [
    "def replace_vowels(in_string, in_char):\n",
    "    vowels = ['a','e','i','o','u','A','E','I','O','U']\n",
    "    string = in_string\n",
    "    for ele in in_string:\n",
    "        if ele in vowels:\n",
    "            in_string = in_string.replace(ele,in_char)\n",
    "    print(f'replace_vowels({string},{in_char}) ➞ {in_string}')\n",
    "    \n",
    "replace_vowels(\"the aardvark\", \"#\")\n",
    "\n",
    "replace_vowels(\"minnie mouse\", \"?\")\n",
    "\n",
    "replace_vowels(\"shakespeare\", \"*\")"
   ]
  },
  {
   "cell_type": "markdown",
   "metadata": {},
   "source": [
    "##### Question4.\n",
    "Write a function that calculates the factorial of a number recursively.\n",
    "###### Examples\n",
    "factorial(5) ➞ 120\n",
    "\n",
    "factorial(3) ➞ 6\n",
    "\n",
    "factorial(1) ➞ 1\n",
    "\n",
    "factorial(0) ➞ 1"
   ]
  },
  {
   "cell_type": "code",
   "execution_count": 9,
   "metadata": {},
   "outputs": [
    {
     "name": "stdout",
     "output_type": "stream",
     "text": [
      "factorial(5) ➞ 120\n",
      "factorial(3) ➞ 6\n",
      "factorial(1) ➞ 1\n",
      "factorial(0) ➞ 1\n"
     ]
    }
   ],
   "source": [
    "def factorial(n):\n",
    "    if n==0:\n",
    "        return 1\n",
    "    return n * factorial(n-1)\n",
    "\n",
    "print(f'factorial(5) ➞ {factorial(5)}')\n",
    "print(f'factorial(3) ➞ {factorial(3)}')\n",
    "print(f'factorial(1) ➞ {factorial(1)}')\n",
    "print(f'factorial(0) ➞ {factorial(0)}')"
   ]
  },
  {
   "cell_type": "markdown",
   "metadata": {},
   "source": [
    "##### Question 5\n",
    "Hamming distance is the number of characters that differ between two strings.\n",
    "\n",
    "To illustrate:\n",
    "String1: &quot;abcbba&quot;\n",
    "\n",
    "String2: &quot;abcbda&quot;\n",
    "\n",
    "Hamming Distance: 1 - &quot;b&quot; vs. &quot;d&quot; is the only difference.\n",
    "\n",
    "Create a function that computes the hamming distance between two strings.\n",
    "\n",
    "###### Examples\n",
    "hamming_distance(&quot;abcde&quot;, &quot;bcdef&quot;) ➞ 5\n",
    "\n",
    "hamming_distance(&quot;abcde&quot;, &quot;abcde&quot;) ➞ 0\n",
    "\n",
    "hamming_distance(&quot;strong&quot;, &quot;strung&quot;) ➞ 1"
   ]
  },
  {
   "cell_type": "code",
   "execution_count": 11,
   "metadata": {},
   "outputs": [
    {
     "name": "stdout",
     "output_type": "stream",
     "text": [
      "hamming_distance (\"abcde\", \"bcdef\") ➞ 5\n",
      "hamming_distance (\"abcde\", \"abcde\") ➞ 0\n",
      "hamming_distance (\"strong\", \"strung\") ➞ 1\n"
     ]
    }
   ],
   "source": [
    "def hamming_distance(in_string_1, in_string_2):\n",
    "    if len(in_string_1) == len(in_string_2):\n",
    "        count = 0\n",
    "        for i in range(len(in_string_1)):\n",
    "            if in_string_1[i] != in_string_2[i]:\n",
    "                count = count+1\n",
    "        print(f'hamming_distance (\"{in_string_1}\", \"{in_string_2}\") ➞ {count}')\n",
    "    else:\n",
    "        print('Both Strings Must be of Same Length')\n",
    "        \n",
    "hamming_distance(\"abcde\", \"bcdef\")\n",
    "\n",
    "hamming_distance(\"abcde\", \"abcde\")\n",
    "\n",
    "hamming_distance(\"strong\", \"strung\")"
   ]
  }
 ],
 "metadata": {
  "kernelspec": {
   "display_name": "Python 3",
   "language": "python",
   "name": "python3"
  },
  "language_info": {
   "codemirror_mode": {
    "name": "ipython",
    "version": 3
   },
   "file_extension": ".py",
   "mimetype": "text/x-python",
   "name": "python",
   "nbconvert_exporter": "python",
   "pygments_lexer": "ipython3",
   "version": "3.8.5"
  }
 },
 "nbformat": 4,
 "nbformat_minor": 4
}
